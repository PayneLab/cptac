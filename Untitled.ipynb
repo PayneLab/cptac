{
 "cells": [
  {
   "cell_type": "code",
   "execution_count": null,
   "id": "18985de9",
   "metadata": {},
   "outputs": [],
   "source": [
    "import cptac"
   ]
  },
  {
   "cell_type": "code",
   "execution_count": null,
   "id": "80324375",
   "metadata": {},
   "outputs": [],
   "source": [
    "en = cptac.Ucec()\n",
    "en.get_phosphoproteomics('umich')"
   ]
  },
  {
   "cell_type": "code",
   "execution_count": null,
   "id": "d87d065d",
   "metadata": {},
   "outputs": [],
   "source": []
  }
 ],
 "metadata": {
  "kernelspec": {
   "display_name": "Python 3 (ipykernel)",
   "language": "python",
   "name": "python3"
  }
 },
 "nbformat": 4,
 "nbformat_minor": 5
}
